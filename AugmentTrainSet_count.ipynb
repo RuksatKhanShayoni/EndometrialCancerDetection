{
 "cells": [
  {
   "cell_type": "code",
   "execution_count": 1,
   "id": "0d8da6f7-6360-44c9-b146-2e4de2d01fab",
   "metadata": {},
   "outputs": [
    {
     "name": "stdout",
     "output_type": "stream",
     "text": [
      "Class 'NE_Follicular': 5000 images\n",
      "Class 'EP': 5000 images\n",
      "Class 'EH_Complex': 5000 images\n",
      "Class 'NE_Menstrual': 5000 images\n",
      "Class 'EH_Simple': 5000 images\n",
      "Class 'NE_Luteal': 5000 images\n",
      "Class 'EA': 5000 images\n"
     ]
    }
   ],
   "source": [
    "import os\n",
    "\n",
    "# Path to augmented training dataset\n",
    "dataset_path = \"augmented_train\"\n",
    "\n",
    "class_counts = {}\n",
    "\n",
    "# Iterate through each class folder\n",
    "for class_name in os.listdir(dataset_path):\n",
    "    class_path = os.path.join(dataset_path, class_name)\n",
    "    if os.path.isdir(class_path):\n",
    "        image_files = [f for f in os.listdir(class_path)\n",
    "                       if os.path.isfile(os.path.join(class_path, f))]\n",
    "        class_counts[class_name] = len(image_files)\n",
    "\n",
    "# Print class wise image counts\n",
    "for cls, count in class_counts.items():\n",
    "    print(f\"Class '{cls}': {count} images\")\n"
   ]
  },
  {
   "cell_type": "code",
   "execution_count": null,
   "id": "cc7c2051-aa92-45cb-a5c8-16e242380ebc",
   "metadata": {},
   "outputs": [],
   "source": []
  }
 ],
 "metadata": {
  "kernelspec": {
   "display_name": "Python (venv)",
   "language": "python",
   "name": "venv"
  },
  "language_info": {
   "codemirror_mode": {
    "name": "ipython",
    "version": 3
   },
   "file_extension": ".py",
   "mimetype": "text/x-python",
   "name": "python",
   "nbconvert_exporter": "python",
   "pygments_lexer": "ipython3",
   "version": "3.10.4"
  }
 },
 "nbformat": 4,
 "nbformat_minor": 5
}
