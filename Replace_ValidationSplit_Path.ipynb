{
 "cells": [
  {
   "cell_type": "code",
   "execution_count": 4,
   "id": "5b6cf755-9088-4d99-897a-42351e0bd5ed",
   "metadata": {},
   "outputs": [],
   "source": [
    "#Replacing image path from Local to Beoshock for Validation Dataset"
   ]
  },
  {
   "cell_type": "code",
   "execution_count": 5,
   "id": "12fb92d8-c631-4695-96d1-9eaf5b05604c",
   "metadata": {},
   "outputs": [
    {
     "name": "stdout",
     "output_type": "stream",
     "text": [
      "Updated paths saved to val_split_BeoShock.csv\n"
     ]
    }
   ],
   "source": [
    "import pandas as pd\n",
    "\n",
    "# Load the original validation CSV\n",
    "df = pd.read_csv('val_split.csv')\n",
    "\n",
    "# Replace the local path with the correct BeoShock path\n",
    "df['image_path'] = df['image_path'].str.replace(\n",
    "    '/Users/ruksatkhanshayoni/Downloads/7306361/histopathological image dataset for ET',\n",
    "    '/homes/k858p487/EndometrialCancerClassification/histopathological_image_dataset_for_ET'\n",
    ")\n",
    "\n",
    "# Save the modified DataFrame to a new CSV file\n",
    "df.to_csv('val_split_BeoShock.csv', index=False)\n",
    "\n",
    "print(\"Updated paths saved to val_split_BeoShock.csv\")"
   ]
  },
  {
   "cell_type": "code",
   "execution_count": 6,
   "id": "60017ea0-e62d-4f64-9022-76948da529af",
   "metadata": {},
   "outputs": [],
   "source": [
    "#Print path for validation dataset"
   ]
  },
  {
   "cell_type": "code",
   "execution_count": 7,
   "id": "059963aa-1894-41fc-81b2-9f810fa3156f",
   "metadata": {},
   "outputs": [
    {
     "name": "stdout",
     "output_type": "stream",
     "text": [
      "                                          image_path          label\n",
      "0  /homes/k858p487/EndometrialCancerClassificatio...  NE_Follicular\n",
      "1  /homes/k858p487/EndometrialCancerClassificatio...             EA\n",
      "2  /homes/k858p487/EndometrialCancerClassificatio...             EA\n",
      "3  /homes/k858p487/EndometrialCancerClassificatio...  NE_Follicular\n",
      "4  /homes/k858p487/EndometrialCancerClassificatio...             EA\n"
     ]
    }
   ],
   "source": [
    "print(df.head())"
   ]
  }
 ],
 "metadata": {
  "kernelspec": {
   "display_name": "Python (venv)",
   "language": "python",
   "name": "venv"
  },
  "language_info": {
   "codemirror_mode": {
    "name": "ipython",
    "version": 3
   },
   "file_extension": ".py",
   "mimetype": "text/x-python",
   "name": "python",
   "nbconvert_exporter": "python",
   "pygments_lexer": "ipython3",
   "version": "3.10.4"
  }
 },
 "nbformat": 4,
 "nbformat_minor": 5
}
