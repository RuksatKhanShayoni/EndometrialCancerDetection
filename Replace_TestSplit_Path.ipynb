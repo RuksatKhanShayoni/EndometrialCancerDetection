{
 "cells": [
  {
   "cell_type": "code",
   "execution_count": 4,
   "id": "2a418cff-655b-439b-990c-0927890c59f3",
   "metadata": {},
   "outputs": [],
   "source": [
    "#Replacing image path from Local to Beoshock for Validation Dataset"
   ]
  },
  {
   "cell_type": "code",
   "execution_count": 5,
   "id": "551c4280-9b18-44a8-9c6d-607442efd482",
   "metadata": {},
   "outputs": [
    {
     "name": "stdout",
     "output_type": "stream",
     "text": [
      "Updated paths saved to test_split_BeoShock.csv\n"
     ]
    }
   ],
   "source": [
    "import pandas as pd\n",
    "\n",
    "# Load the original test CSV\n",
    "df = pd.read_csv('test_split.csv')\n",
    "\n",
    "# Replace the local path with the correct BeoShock path\n",
    "df['image_path'] = df['image_path'].str.replace(\n",
    "    '/Users/ruksatkhanshayoni/Downloads/7306361/histopathological image dataset for ET',\n",
    "    '/homes/k858p487/EndometrialCancerClassification/histopathological_image_dataset_for_ET'\n",
    ")\n",
    "\n",
    "# Save the modified DataFrame to a new CSV file\n",
    "df.to_csv('test_split_BeoShock.csv', index=False)\n",
    "\n",
    "print(\"Updated paths saved to test_split_BeoShock.csv\")"
   ]
  },
  {
   "cell_type": "code",
   "execution_count": 6,
   "id": "fcf1e5cc-7b31-441f-b445-31e4e3732499",
   "metadata": {},
   "outputs": [],
   "source": [
    "#Print path for test dataset"
   ]
  },
  {
   "cell_type": "code",
   "execution_count": 7,
   "id": "948b0cbe-ee61-4225-a8d5-5cbdc0be602e",
   "metadata": {},
   "outputs": [
    {
     "name": "stdout",
     "output_type": "stream",
     "text": [
      "                                          image_path       label\n",
      "0  /homes/k858p487/EndometrialCancerClassificatio...          EP\n",
      "1  /homes/k858p487/EndometrialCancerClassificatio...   NE_Luteal\n",
      "2  /homes/k858p487/EndometrialCancerClassificatio...   NE_Luteal\n",
      "3  /homes/k858p487/EndometrialCancerClassificatio...          EP\n",
      "4  /homes/k858p487/EndometrialCancerClassificatio...  EH_Complex\n"
     ]
    }
   ],
   "source": [
    "print(df.head())"
   ]
  },
  {
   "cell_type": "code",
   "execution_count": null,
   "id": "c9f50f95-720e-4f37-8dd5-d9bbe080cf6b",
   "metadata": {},
   "outputs": [],
   "source": []
  }
 ],
 "metadata": {
  "kernelspec": {
   "display_name": "Python (venv)",
   "language": "python",
   "name": "venv"
  },
  "language_info": {
   "codemirror_mode": {
    "name": "ipython",
    "version": 3
   },
   "file_extension": ".py",
   "mimetype": "text/x-python",
   "name": "python",
   "nbconvert_exporter": "python",
   "pygments_lexer": "ipython3",
   "version": "3.10.4"
  }
 },
 "nbformat": 4,
 "nbformat_minor": 5
}
